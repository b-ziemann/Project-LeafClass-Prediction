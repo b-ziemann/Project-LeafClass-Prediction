{
 "cells": [
  {
   "cell_type": "markdown",
   "id": "d0ee3968",
   "metadata": {},
   "source": [
    "# Project 1) Leaf Classifcation\n",
    "\n",
    "By: Brenden Ziemann<br>\n",
    "DAT 402\n",
    "\n",
    "## Problem:\n",
    "For this project I have choosen to look at a data set of leaves. Based off different attributes and measurements of leaves I will be looking at if it is possible to predict the classifiying types/species of leaves.\n",
    "\n",
    "Dataset found at https://archive.ics.uci.edu/ml/machine-learning-databases/00288/\n",
    "\n",
    "Read in the file:"
   ]
  },
  {
   "cell_type": "code",
   "execution_count": 35,
   "id": "c6e4dbd2",
   "metadata": {},
   "outputs": [
    {
     "data": {
      "text/html": [
       "<div>\n",
       "<style scoped>\n",
       "    .dataframe tbody tr th:only-of-type {\n",
       "        vertical-align: middle;\n",
       "    }\n",
       "\n",
       "    .dataframe tbody tr th {\n",
       "        vertical-align: top;\n",
       "    }\n",
       "\n",
       "    .dataframe thead th {\n",
       "        text-align: right;\n",
       "    }\n",
       "</style>\n",
       "<table border=\"1\" class=\"dataframe\">\n",
       "  <thead>\n",
       "    <tr style=\"text-align: right;\">\n",
       "      <th></th>\n",
       "      <th>0</th>\n",
       "      <th>1</th>\n",
       "      <th>2</th>\n",
       "      <th>3</th>\n",
       "      <th>4</th>\n",
       "      <th>5</th>\n",
       "      <th>6</th>\n",
       "      <th>7</th>\n",
       "      <th>8</th>\n",
       "      <th>9</th>\n",
       "      <th>10</th>\n",
       "      <th>11</th>\n",
       "      <th>12</th>\n",
       "      <th>13</th>\n",
       "      <th>14</th>\n",
       "      <th>15</th>\n",
       "    </tr>\n",
       "  </thead>\n",
       "  <tbody>\n",
       "    <tr>\n",
       "      <th>0</th>\n",
       "      <td>1</td>\n",
       "      <td>1</td>\n",
       "      <td>0.72694</td>\n",
       "      <td>1.4742</td>\n",
       "      <td>0.32396</td>\n",
       "      <td>0.98535</td>\n",
       "      <td>1.00000</td>\n",
       "      <td>0.83592</td>\n",
       "      <td>0.004657</td>\n",
       "      <td>0.003947</td>\n",
       "      <td>0.047790</td>\n",
       "      <td>0.127950</td>\n",
       "      <td>0.016108</td>\n",
       "      <td>0.005232</td>\n",
       "      <td>0.000275</td>\n",
       "      <td>1.17560</td>\n",
       "    </tr>\n",
       "    <tr>\n",
       "      <th>1</th>\n",
       "      <td>1</td>\n",
       "      <td>2</td>\n",
       "      <td>0.74173</td>\n",
       "      <td>1.5257</td>\n",
       "      <td>0.36116</td>\n",
       "      <td>0.98152</td>\n",
       "      <td>0.99825</td>\n",
       "      <td>0.79867</td>\n",
       "      <td>0.005242</td>\n",
       "      <td>0.005002</td>\n",
       "      <td>0.024160</td>\n",
       "      <td>0.090476</td>\n",
       "      <td>0.008119</td>\n",
       "      <td>0.002708</td>\n",
       "      <td>0.000075</td>\n",
       "      <td>0.69659</td>\n",
       "    </tr>\n",
       "    <tr>\n",
       "      <th>2</th>\n",
       "      <td>1</td>\n",
       "      <td>3</td>\n",
       "      <td>0.76722</td>\n",
       "      <td>1.5725</td>\n",
       "      <td>0.38998</td>\n",
       "      <td>0.97755</td>\n",
       "      <td>1.00000</td>\n",
       "      <td>0.80812</td>\n",
       "      <td>0.007457</td>\n",
       "      <td>0.010121</td>\n",
       "      <td>0.011897</td>\n",
       "      <td>0.057445</td>\n",
       "      <td>0.003289</td>\n",
       "      <td>0.000921</td>\n",
       "      <td>0.000038</td>\n",
       "      <td>0.44348</td>\n",
       "    </tr>\n",
       "    <tr>\n",
       "      <th>3</th>\n",
       "      <td>1</td>\n",
       "      <td>4</td>\n",
       "      <td>0.73797</td>\n",
       "      <td>1.4597</td>\n",
       "      <td>0.35376</td>\n",
       "      <td>0.97566</td>\n",
       "      <td>1.00000</td>\n",
       "      <td>0.81697</td>\n",
       "      <td>0.006877</td>\n",
       "      <td>0.008607</td>\n",
       "      <td>0.015950</td>\n",
       "      <td>0.065491</td>\n",
       "      <td>0.004271</td>\n",
       "      <td>0.001154</td>\n",
       "      <td>0.000066</td>\n",
       "      <td>0.58785</td>\n",
       "    </tr>\n",
       "    <tr>\n",
       "      <th>4</th>\n",
       "      <td>1</td>\n",
       "      <td>5</td>\n",
       "      <td>0.82301</td>\n",
       "      <td>1.7707</td>\n",
       "      <td>0.44462</td>\n",
       "      <td>0.97698</td>\n",
       "      <td>1.00000</td>\n",
       "      <td>0.75493</td>\n",
       "      <td>0.007428</td>\n",
       "      <td>0.010042</td>\n",
       "      <td>0.007938</td>\n",
       "      <td>0.045339</td>\n",
       "      <td>0.002051</td>\n",
       "      <td>0.000560</td>\n",
       "      <td>0.000024</td>\n",
       "      <td>0.34214</td>\n",
       "    </tr>\n",
       "  </tbody>\n",
       "</table>\n",
       "</div>"
      ],
      "text/plain": [
       "   0   1        2       3        4        5        6        7         8   \\\n",
       "0   1   1  0.72694  1.4742  0.32396  0.98535  1.00000  0.83592  0.004657   \n",
       "1   1   2  0.74173  1.5257  0.36116  0.98152  0.99825  0.79867  0.005242   \n",
       "2   1   3  0.76722  1.5725  0.38998  0.97755  1.00000  0.80812  0.007457   \n",
       "3   1   4  0.73797  1.4597  0.35376  0.97566  1.00000  0.81697  0.006877   \n",
       "4   1   5  0.82301  1.7707  0.44462  0.97698  1.00000  0.75493  0.007428   \n",
       "\n",
       "         9         10        11        12        13        14       15  \n",
       "0  0.003947  0.047790  0.127950  0.016108  0.005232  0.000275  1.17560  \n",
       "1  0.005002  0.024160  0.090476  0.008119  0.002708  0.000075  0.69659  \n",
       "2  0.010121  0.011897  0.057445  0.003289  0.000921  0.000038  0.44348  \n",
       "3  0.008607  0.015950  0.065491  0.004271  0.001154  0.000066  0.58785  \n",
       "4  0.010042  0.007938  0.045339  0.002051  0.000560  0.000024  0.34214  "
      ]
     },
     "execution_count": 35,
     "metadata": {},
     "output_type": "execute_result"
    }
   ],
   "source": [
    "import pandas as pd\n",
    "import numpy as np\n",
    "import matplotlib.pyplot as plt\n",
    "import statistics\n",
    "leaf = pd.read_csv(\"leaf.csv\", header=None)\n",
    "leaf.head(5)"
   ]
  },
  {
   "cell_type": "markdown",
   "id": "4f2c559f",
   "metadata": {},
   "source": [
    "Column names are still missing. You can find those names in the leaf.zip file. There is a READ.me file for the names of the columns. Adding the column names to the dataset:\n",
    "1. Class (Species)\n",
    "2. Specimen Number\n",
    "3. Eccentricity\n",
    "4. Aspect Ratio\n",
    "5. Elongation\n",
    "6. Solidity\n",
    "7. Stochastic Convexity\n",
    "8. Isoperimetric Factor\n",
    "9. Maximal Indentation Depth\n",
    "10. Lobedness\n",
    "11. Average Intensity\n",
    "12. Average Contrast\n",
    "13. Smoothness\n",
    "14. Third moment\n",
    "15. Uniformity\n",
    "16. Entropy"
   ]
  },
  {
   "cell_type": "code",
   "execution_count": 36,
   "id": "4354bc33",
   "metadata": {},
   "outputs": [
    {
     "data": {
      "text/html": [
       "<div>\n",
       "<style scoped>\n",
       "    .dataframe tbody tr th:only-of-type {\n",
       "        vertical-align: middle;\n",
       "    }\n",
       "\n",
       "    .dataframe tbody tr th {\n",
       "        vertical-align: top;\n",
       "    }\n",
       "\n",
       "    .dataframe thead th {\n",
       "        text-align: right;\n",
       "    }\n",
       "</style>\n",
       "<table border=\"1\" class=\"dataframe\">\n",
       "  <thead>\n",
       "    <tr style=\"text-align: right;\">\n",
       "      <th></th>\n",
       "      <th>Class_Species</th>\n",
       "      <th>Specimen_Number</th>\n",
       "      <th>Eccentricity</th>\n",
       "      <th>Aspect_Ratio</th>\n",
       "      <th>Elongation</th>\n",
       "      <th>Solidity</th>\n",
       "      <th>Stochastic_Convexity</th>\n",
       "      <th>Isoperimetric_Factor</th>\n",
       "      <th>Maximal_Indentation_Depth</th>\n",
       "      <th>Lobedness</th>\n",
       "      <th>Average_Intensity</th>\n",
       "      <th>Average_Contrast</th>\n",
       "      <th>Smoothness</th>\n",
       "      <th>Third_moment</th>\n",
       "      <th>Uniformity</th>\n",
       "      <th>Entropy</th>\n",
       "    </tr>\n",
       "  </thead>\n",
       "  <tbody>\n",
       "    <tr>\n",
       "      <th>0</th>\n",
       "      <td>1</td>\n",
       "      <td>1</td>\n",
       "      <td>0.72694</td>\n",
       "      <td>1.4742</td>\n",
       "      <td>0.32396</td>\n",
       "      <td>0.98535</td>\n",
       "      <td>1.00000</td>\n",
       "      <td>0.83592</td>\n",
       "      <td>0.004657</td>\n",
       "      <td>0.003947</td>\n",
       "      <td>0.047790</td>\n",
       "      <td>0.127950</td>\n",
       "      <td>0.016108</td>\n",
       "      <td>0.005232</td>\n",
       "      <td>0.000275</td>\n",
       "      <td>1.17560</td>\n",
       "    </tr>\n",
       "    <tr>\n",
       "      <th>1</th>\n",
       "      <td>1</td>\n",
       "      <td>2</td>\n",
       "      <td>0.74173</td>\n",
       "      <td>1.5257</td>\n",
       "      <td>0.36116</td>\n",
       "      <td>0.98152</td>\n",
       "      <td>0.99825</td>\n",
       "      <td>0.79867</td>\n",
       "      <td>0.005242</td>\n",
       "      <td>0.005002</td>\n",
       "      <td>0.024160</td>\n",
       "      <td>0.090476</td>\n",
       "      <td>0.008119</td>\n",
       "      <td>0.002708</td>\n",
       "      <td>0.000075</td>\n",
       "      <td>0.69659</td>\n",
       "    </tr>\n",
       "    <tr>\n",
       "      <th>2</th>\n",
       "      <td>1</td>\n",
       "      <td>3</td>\n",
       "      <td>0.76722</td>\n",
       "      <td>1.5725</td>\n",
       "      <td>0.38998</td>\n",
       "      <td>0.97755</td>\n",
       "      <td>1.00000</td>\n",
       "      <td>0.80812</td>\n",
       "      <td>0.007457</td>\n",
       "      <td>0.010121</td>\n",
       "      <td>0.011897</td>\n",
       "      <td>0.057445</td>\n",
       "      <td>0.003289</td>\n",
       "      <td>0.000921</td>\n",
       "      <td>0.000038</td>\n",
       "      <td>0.44348</td>\n",
       "    </tr>\n",
       "    <tr>\n",
       "      <th>3</th>\n",
       "      <td>1</td>\n",
       "      <td>4</td>\n",
       "      <td>0.73797</td>\n",
       "      <td>1.4597</td>\n",
       "      <td>0.35376</td>\n",
       "      <td>0.97566</td>\n",
       "      <td>1.00000</td>\n",
       "      <td>0.81697</td>\n",
       "      <td>0.006877</td>\n",
       "      <td>0.008607</td>\n",
       "      <td>0.015950</td>\n",
       "      <td>0.065491</td>\n",
       "      <td>0.004271</td>\n",
       "      <td>0.001154</td>\n",
       "      <td>0.000066</td>\n",
       "      <td>0.58785</td>\n",
       "    </tr>\n",
       "    <tr>\n",
       "      <th>4</th>\n",
       "      <td>1</td>\n",
       "      <td>5</td>\n",
       "      <td>0.82301</td>\n",
       "      <td>1.7707</td>\n",
       "      <td>0.44462</td>\n",
       "      <td>0.97698</td>\n",
       "      <td>1.00000</td>\n",
       "      <td>0.75493</td>\n",
       "      <td>0.007428</td>\n",
       "      <td>0.010042</td>\n",
       "      <td>0.007938</td>\n",
       "      <td>0.045339</td>\n",
       "      <td>0.002051</td>\n",
       "      <td>0.000560</td>\n",
       "      <td>0.000024</td>\n",
       "      <td>0.34214</td>\n",
       "    </tr>\n",
       "  </tbody>\n",
       "</table>\n",
       "</div>"
      ],
      "text/plain": [
       "   Class_Species  Specimen_Number  Eccentricity  Aspect_Ratio  Elongation  \\\n",
       "0              1                1       0.72694        1.4742     0.32396   \n",
       "1              1                2       0.74173        1.5257     0.36116   \n",
       "2              1                3       0.76722        1.5725     0.38998   \n",
       "3              1                4       0.73797        1.4597     0.35376   \n",
       "4              1                5       0.82301        1.7707     0.44462   \n",
       "\n",
       "   Solidity  Stochastic_Convexity  Isoperimetric_Factor  \\\n",
       "0   0.98535               1.00000               0.83592   \n",
       "1   0.98152               0.99825               0.79867   \n",
       "2   0.97755               1.00000               0.80812   \n",
       "3   0.97566               1.00000               0.81697   \n",
       "4   0.97698               1.00000               0.75493   \n",
       "\n",
       "   Maximal_Indentation_Depth  Lobedness  Average_Intensity  Average_Contrast  \\\n",
       "0                   0.004657   0.003947           0.047790          0.127950   \n",
       "1                   0.005242   0.005002           0.024160          0.090476   \n",
       "2                   0.007457   0.010121           0.011897          0.057445   \n",
       "3                   0.006877   0.008607           0.015950          0.065491   \n",
       "4                   0.007428   0.010042           0.007938          0.045339   \n",
       "\n",
       "   Smoothness  Third_moment  Uniformity  Entropy  \n",
       "0    0.016108      0.005232    0.000275  1.17560  \n",
       "1    0.008119      0.002708    0.000075  0.69659  \n",
       "2    0.003289      0.000921    0.000038  0.44348  \n",
       "3    0.004271      0.001154    0.000066  0.58785  \n",
       "4    0.002051      0.000560    0.000024  0.34214  "
      ]
     },
     "execution_count": 36,
     "metadata": {},
     "output_type": "execute_result"
    }
   ],
   "source": [
    "leaf.columns = [\n",
    "     \"Class_Species\",\n",
    "     \"Specimen_Number\",\n",
    "     \"Eccentricity\",\n",
    "     \"Aspect_Ratio\",\n",
    "     \"Elongation\",\n",
    "     \"Solidity\",\n",
    "     \"Stochastic_Convexity\",\n",
    "     \"Isoperimetric_Factor\",\n",
    "     \"Maximal_Indentation_Depth\",\n",
    "     \"Lobedness\",\n",
    "     \"Average_Intensity\",\n",
    "     \"Average_Contrast\",\n",
    "     \"Smoothness\",\n",
    "     \"Third_moment\",\n",
    "     \"Uniformity\",\n",
    "     \"Entropy\"]\n",
    "leaf.head(5)"
   ]
  },
  {
   "cell_type": "markdown",
   "id": "24a92d89",
   "metadata": {},
   "source": [
    "## Class/Names of Leaves:"
   ]
  },
  {
   "cell_type": "markdown",
   "id": "0d1e84ef",
   "metadata": {},
   "source": [
    "<img src=\"Types.png\" style=\"width: 450px;\"/>"
   ]
  },
  {
   "cell_type": "markdown",
   "id": "703285d7",
   "metadata": {},
   "source": [
    "Remove Speciman Number due to the fact we don't need to use that in prediction of the type of leaves:"
   ]
  },
  {
   "cell_type": "code",
   "execution_count": 37,
   "id": "c6e2f35b",
   "metadata": {},
   "outputs": [],
   "source": [
    "leaf = leaf.drop(\"Specimen_Number\", axis=1)"
   ]
  },
  {
   "cell_type": "markdown",
   "id": "7b41f0f2",
   "metadata": {},
   "source": [
    "### Correlation of Variables to Class_Species"
   ]
  },
  {
   "cell_type": "code",
   "execution_count": 38,
   "id": "4ba25401",
   "metadata": {},
   "outputs": [
    {
     "data": {
      "text/plain": [
       "Class_Species                1.000000\n",
       "Eccentricity                 0.091415\n",
       "Aspect_Ratio                 0.275210\n",
       "Elongation                   0.141275\n",
       "Solidity                     0.111843\n",
       "Stochastic_Convexity         0.046678\n",
       "Isoperimetric_Factor        -0.049767\n",
       "Maximal_Indentation_Depth   -0.040026\n",
       "Lobedness                   -0.017048\n",
       "Average_Intensity            0.102453\n",
       "Average_Contrast             0.076246\n",
       "Smoothness                   0.094885\n",
       "Third_moment                 0.058520\n",
       "Uniformity                   0.187717\n",
       "Entropy                      0.017690\n",
       "Name: Class_Species, dtype: float64"
      ]
     },
     "execution_count": 38,
     "metadata": {},
     "output_type": "execute_result"
    }
   ],
   "source": [
    "correlation_matrix = leaf.corr()\n",
    "correlation_matrix[\"Class_Species\"]"
   ]
  },
  {
   "cell_type": "markdown",
   "id": "48233120",
   "metadata": {},
   "source": [
    "As you can see the correlation between the different aspects of the leaf and the class/species isn't very high at all. Based of the correlations I decided to drop the columns with  negative correlation."
   ]
  },
  {
   "cell_type": "code",
   "execution_count": 39,
   "id": "b8fd5607",
   "metadata": {},
   "outputs": [],
   "source": [
    "leaf = leaf.drop(\"Maximal_Indentation_Depth\",axis=1)\n",
    "leaf = leaf.drop(\"Isoperimetric_Factor\",axis=1)\n",
    "leaf = leaf.drop(\"Lobedness\",axis=1)"
   ]
  },
  {
   "cell_type": "markdown",
   "id": "b830c184",
   "metadata": {},
   "source": [
    "### Histogram of the different Classes/Species"
   ]
  },
  {
   "cell_type": "code",
   "execution_count": 40,
   "id": "8d941239",
   "metadata": {},
   "outputs": [
    {
     "data": {
      "image/png": "[encoded data removed]",
      "text/plain": [
       "<Figure size 432x288 with 1 Axes>"
      ]
     },
     "metadata": {
      "needs_background": "light"
     },
     "output_type": "display_data"
    }
   ],
   "source": [
    "leaf[\"Class_Species\"].hist(bins=20)\n",
    "plt.show()"
   ]
  },
  {
   "cell_type": "markdown",
   "id": "fac756dd",
   "metadata": {},
   "source": [
    "There seems to be a variety of species of leaves in the data set but there is a hole of missing data with species of the 17 - 23 classification. "
   ]
  },
  {
   "cell_type": "markdown",
   "id": "5b87e2c3",
   "metadata": {},
   "source": [
    "### Compute the Distance\n",
    "\n",
    "Now, to find the nearest neighbors. Define distances on the vectors of the independent variables:\n",
    "\n",
    "Using X to be the values of all observations that isn't Class_Species(compliment) and y to be the values of just Class_Species "
   ]
  },
  {
   "cell_type": "code",
   "execution_count": 41,
   "id": "91d771e3",
   "metadata": {},
   "outputs": [],
   "source": [
    "xall = leaf.drop(\"Class_Species\", axis=1)\n",
    "xall = xall.values\n",
    "yall = leaf[\"Class_Species\"]\n",
    "yall = yall.values"
   ]
  },
  {
   "cell_type": "markdown",
   "id": "fd4715ae",
   "metadata": {},
   "source": [
    "X is the independent variables for all measurements that isn't class_species. y is the dependent variables for just being Class_Species"
   ]
  },
  {
   "cell_type": "markdown",
   "id": "4650fac1",
   "metadata": {},
   "source": [
    "### New Leaf Data Point to be added for Prediction\n",
    "I will be trying to predict the class/species of a leaf based off these measurements. \n",
    "Apply a kNN with k =6 on a new leaf that has the following attributes:<br>\n",
    "<br>\n",
    "Eccentricity 0.757867<br>\n",
    "Aspect_Ratio  1.555678<br>\n",
    "Elongation       0.374437<br>\n",
    "Solidity       0.978849<br>\n",
    "Stochastic_Convexity        0.999998<br>\n",
    "Average_Intensity       0.024589<br>\n",
    "Average_Contrast        0.013464<br>\n",
    "Smoothness       0.068721<br>\n",
    "Third_moment       0.000576<br>\n",
    "Uniformity       0.000067<br>\n",
    "Entropy      0.716522<br>"
   ]
  },
  {
   "cell_type": "code",
   "execution_count": 42,
   "id": "c53f1855",
   "metadata": {},
   "outputs": [],
   "source": [
    "new_leaf = np.array([\n",
    "     0.757867,\n",
    "     1.555678,\n",
    "     0.374437,\n",
    "     0.978849,\n",
    "     0.999998,\n",
    "     0.024589,\n",
    "     0.013464,\n",
    "     0.068721,\n",
    "     0.000576,\n",
    "     0.000067,\n",
    "     0.716522\n",
    " ])"
   ]
  },
  {
   "cell_type": "markdown",
   "id": "9581cf01",
   "metadata": {},
   "source": [
    "Compute the distances between this new leaf and each of the data points in the Leaf Dataset using distance"
   ]
  },
  {
   "cell_type": "code",
   "execution_count": 43,
   "id": "46dcfb49",
   "metadata": {},
   "outputs": [],
   "source": [
    "distances_leaves = np.linalg.norm(xall - new_leaf, axis=1)"
   ]
  },
  {
   "cell_type": "markdown",
   "id": "70ef6ad9",
   "metadata": {},
   "source": [
    "With this vector of distances, and now to find out which are the closest neighbors for 6. Find the minimum distances. Sort from lowest to highest and then take the first k elements to obtain the indices of the k nearest neighbors:"
   ]
  },
  {
   "cell_type": "code",
   "execution_count": 44,
   "id": "896fa874",
   "metadata": {},
   "outputs": [
    {
     "data": {
      "text/plain": [
       "array([  1,   7, 139,  37,   3,  91])"
      ]
     },
     "execution_count": 44,
     "metadata": {},
     "output_type": "execute_result"
    }
   ],
   "source": [
    "k = 6\n",
    "nearest_neighbors = distances_leaves.argsort()[:k]\n",
    "nearest_neighbors"
   ]
  },
  {
   "cell_type": "markdown",
   "id": "b8f538c1",
   "metadata": {},
   "source": [
    "Now that the indices of the nearest neighbors have been idetified, now combine those neighbors into a prediction for the new leaf.\n",
    "\n",
    "First) find the classes/species for the neighbors:"
   ]
  },
  {
   "cell_type": "code",
   "execution_count": 45,
   "id": "c4b3853e",
   "metadata": {},
   "outputs": [
    {
     "data": {
      "text/plain": [
       "array([ 1,  1, 13,  4,  1,  9])"
      ]
     },
     "execution_count": 45,
     "metadata": {},
     "output_type": "execute_result"
    }
   ],
   "source": [
    "nearest_neighbor_class = yall[nearest_neighbors]\n",
    "nearest_neighbor_class"
   ]
  },
  {
   "cell_type": "markdown",
   "id": "4bd5cbd4",
   "metadata": {},
   "source": [
    "Second) Then the next step is to find the most common class/species that is around the the new leaf. The class/species 1 shows up around the new leaf 3 times which is more than any other species. So the prediction should be that the new leaf is of type 1."
   ]
  },
  {
   "cell_type": "code",
   "execution_count": 46,
   "id": "970dcf1a",
   "metadata": {},
   "outputs": [
    {
     "data": {
      "text/plain": [
       "1"
      ]
     },
     "execution_count": 46,
     "metadata": {},
     "output_type": "execute_result"
    }
   ],
   "source": [
    "prediction = np.bincount(nearest_neighbor_class).argmax()\n",
    "prediction"
   ]
  },
  {
   "cell_type": "markdown",
   "id": "10c64327",
   "metadata": {},
   "source": [
    "Based off the nearest neighbors the most common species/class was 1 so the prediction for the new leaf is of class 1"
   ]
  },
  {
   "cell_type": "markdown",
   "id": "bd77b02f",
   "metadata": {},
   "source": [
    "# Fit kNN in Python Using Example scikit-learn (learning purposes) \n",
    "## Would love feedback on process and if it is truly correct/accurate"
   ]
  },
  {
   "cell_type": "markdown",
   "id": "4aadd373",
   "metadata": {},
   "source": [
    "This is my second part of the project for testing the results using scikit-learn. Using Training data to fit the model and test data to evaluate the model. Make predictions for classifications of the species/types of the leaves of each of the leaves in the test data and compare those results to the known correct class/species."
   ]
  },
  {
   "cell_type": "code",
   "execution_count": 47,
   "id": "257140ce",
   "metadata": {},
   "outputs": [],
   "source": [
    "from sklearn.model_selection import train_test_split\n",
    "x_train, x_test, y_train, y_test = train_test_split(\n",
    "     xall, yall, test_size=0.2, random_state=12345)"
   ]
  },
  {
   "cell_type": "markdown",
   "id": "bdaa524d",
   "metadata": {},
   "source": [
    "#### Creating True Distinction Model\n",
    "1) Creating a model of the correct distinctions. For the kNN algorithm, choose 6 for the value of k"
   ]
  },
  {
   "cell_type": "code",
   "execution_count": 48,
   "id": "d2c46243",
   "metadata": {},
   "outputs": [],
   "source": [
    "from sklearn.neighbors import KNeighborsRegressor\n",
    "knn_model = KNeighborsRegressor(n_neighbors=6)"
   ]
  },
  {
   "cell_type": "markdown",
   "id": "73938a0f",
   "metadata": {},
   "source": [
    "#### Create Unfitted Model with kNN Model\n",
    "2) Create an unfitted model with knn_model. This model will use the 6 nearest neighbors to predict the value of a future new leaf. To get the data into the model, fit the model on the training dataset:"
   ]
  },
  {
   "cell_type": "code",
   "execution_count": 49,
   "id": "48e2ba16",
   "metadata": {},
   "outputs": [
    {
     "data": {
      "text/plain": [
       "KNeighborsRegressor(n_neighbors=6)"
      ]
     },
     "execution_count": 49,
     "metadata": {},
     "output_type": "execute_result"
    }
   ],
   "source": [
    "knn_model.fit(x_train, y_train)"
   ]
  },
  {
   "cell_type": "markdown",
   "id": "d94f479f",
   "metadata": {},
   "source": [
    "#### Find Prediction Error on Training Data\n",
    "Find the prediction error on training data. Use the root-mean-square error (RMSE). Calculated by:"
   ]
  },
  {
   "cell_type": "code",
   "execution_count": 56,
   "id": "7557f2a3",
   "metadata": {},
   "outputs": [
    {
     "data": {
      "text/plain": [
       "8.02472690065309"
      ]
     },
     "execution_count": 56,
     "metadata": {},
     "output_type": "execute_result"
    }
   ],
   "source": [
    "from sklearn.metrics import mean_squared_error\n",
    "from math import sqrt\n",
    "train_preds = knn_model.predict(X_train)\n",
    "mse = mean_squared_error(y_train, train_preds)\n",
    "rmse = sqrt(mse)\n",
    "rmse"
   ]
  },
  {
   "cell_type": "markdown",
   "id": "567958cb",
   "metadata": {},
   "source": [
    "#### Find Prediction Error on Test Data\n",
    "Evaluate the performances on data that aren’t included in the model using the test set. Evaluate the predictive performances on the test set:"
   ]
  },
  {
   "cell_type": "code",
   "execution_count": 51,
   "id": "caa7ba11",
   "metadata": {},
   "outputs": [
    {
     "data": {
      "text/plain": [
       "9.860630108861747"
      ]
     },
     "execution_count": 51,
     "metadata": {},
     "output_type": "execute_result"
    }
   ],
   "source": [
    "test_preds = knn_model.predict(x_test)\n",
    "mse = mean_squared_error(y_test, test_preds)\n",
    "rmse = sqrt(mse)\n",
    "rmse"
   ]
  },
  {
   "cell_type": "markdown",
   "id": "3d920ffa",
   "metadata": {},
   "source": [
    "The RMSE measures the average error of the predicted class/species. With this it is having, on average, an error of 8.0247 which seems very high and I don't feel it works with this example of trying to predict class/species."
   ]
  },
  {
   "cell_type": "markdown",
   "id": "f904b350",
   "metadata": {},
   "source": [
    "### Plotting the Fit of the Model\n",
    "Observe if the model is the actual fit of your model. Visualize how your predictions have been made:"
   ]
  },
  {
   "cell_type": "code",
   "execution_count": 52,
   "id": "62a6df85",
   "metadata": {},
   "outputs": [
    {
     "data": {
      "image/png": "[encoded data removed]",
      "text/plain": [
       "<Figure size 432x288 with 2 Axes>"
      ]
     },
     "metadata": {
      "needs_background": "light"
     },
     "output_type": "display_data"
    }
   ],
   "source": [
    "import seaborn as sns\n",
    "cmap = sns.cubehelix_palette(as_cmap=True)\n",
    "f, ax = plt.subplots()\n",
    "\n",
    "points = ax.scatter(x_test[:, 0], x_test[:, 1], c=test_preds, s=50, cmap=cmap)\n",
    "\n",
    "f.colorbar(points)\n",
    "plt.show()"
   ]
  },
  {
   "cell_type": "markdown",
   "id": "5bfc381a",
   "metadata": {},
   "source": [
    "From the graph above each point is a new leaf from the test set. The color of the point reflects the predicted class/species. The X axis refers to the Eccentricity and the Y axis is the Aspect_Ratio of the leaf. It seems high class/species numbers are towards the right. \n",
    "\n",
    "To confirm whether this trend exists in actual leaf data, I will do the same for the actual values:"
   ]
  },
  {
   "cell_type": "code",
   "execution_count": 53,
   "id": "21480868",
   "metadata": {},
   "outputs": [
    {
     "data": {
      "image/png": "[encoded data removed]",
      "text/plain": [
       "<Figure size 432x288 with 2 Axes>"
      ]
     },
     "metadata": {
      "needs_background": "light"
     },
     "output_type": "display_data"
    }
   ],
   "source": [
    "cmap = sns.cubehelix_palette(as_cmap=True)\n",
    "f, ax = plt.subplots()\n",
    "points = ax.scatter(\n",
    "     x_test[:, 0], x_test[:, 1], c=y_test, s=50, cmap=cmap)\n",
    "f.colorbar(points)\n",
    "plt.show()"
   ]
  },
  {
   "cell_type": "markdown",
   "id": "cae34e2a",
   "metadata": {},
   "source": [
    "Based off the two graphs they look very similar but aren't quite the same for justifying the class/species of a new leaf. \n",
    "\n",
    "### Finding the best k Nearest Neighbors to Use"
   ]
  },
  {
   "cell_type": "markdown",
   "id": "70309047",
   "metadata": {},
   "source": [
    "Fit the model with GridSearchCV. GridSearchCV repeatedly fits kNN regressors on a part of the data and tests the performances on the other part of the data. Test values of k to be 1 to 100 for best results. \n",
    "\n",
    "Using .best_params_ will show the best number of k to use:"
   ]
  },
  {
   "cell_type": "code",
   "execution_count": 54,
   "id": "7b57b520",
   "metadata": {},
   "outputs": [
    {
     "data": {
      "text/plain": [
       "GridSearchCV(estimator=KNeighborsRegressor(),\n",
       "             param_grid={'n_neighbors': range(1, 50),\n",
       "                         'weights': ['uniform', 'distance']})"
      ]
     },
     "execution_count": 54,
     "metadata": {},
     "output_type": "execute_result"
    }
   ],
   "source": [
    "from sklearn.model_selection import GridSearchCV\n",
    "parameters = {\"n_neighbors\": range(1, 100)}\n",
    "gridsearch = GridSearchCV(KNeighborsRegressor(), parameters)\n",
    "gridsearch.fit(x_train, y_train)\n",
    "GridSearchCV(estimator=KNeighborsRegressor(),\n",
    "             param_grid={'n_neighbors': range(1, 50),\n",
    "                         'weights': ['uniform', 'distance']})"
   ]
  },
  {
   "cell_type": "code",
   "execution_count": 55,
   "id": "d9cf885e",
   "metadata": {},
   "outputs": [
    {
     "data": {
      "text/plain": [
       "{'n_neighbors': 6}"
      ]
     },
     "execution_count": 55,
     "metadata": {},
     "output_type": "execute_result"
    }
   ],
   "source": [
    "gridsearch.best_params_"
   ]
  },
  {
   "cell_type": "markdown",
   "id": "5bad7b0c",
   "metadata": {},
   "source": [
    "This shows the best k to use is 6 for nearest neigbors"
   ]
  },
  {
   "cell_type": "markdown",
   "id": "85a198b7",
   "metadata": {},
   "source": [
    "### Sources:\n",
    "\n",
    "Abalone Example to better help understand kNN\n",
    "https://realpython.com/knn-python/"
   ]
  },
  {
   "cell_type": "code",
   "execution_count": null,
   "id": "423c4afc",
   "metadata": {},
   "outputs": [],
   "source": []
  }
 ],
 "metadata": {
  "kernelspec": {
   "display_name": "Python 3",
   "language": "python",
   "name": "python3"
  },
  "language_info": {
   "codemirror_mode": {
    "name": "ipython",
    "version": 3
   },
   "file_extension": ".py",
   "mimetype": "text/x-python",
   "name": "python",
   "nbconvert_exporter": "python",
   "pygments_lexer": "ipython3",
   "version": "3.8.10"
  }
 },
 "nbformat": 4,
 "nbformat_minor": 5
}
